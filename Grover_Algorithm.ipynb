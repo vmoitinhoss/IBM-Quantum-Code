{
  "nbformat": 4,
  "nbformat_minor": 0,
  "metadata": {
    "colab": {
      "provenance": []
    },
    "kernelspec": {
      "name": "python3",
      "display_name": "Python 3"
    },
    "language_info": {
      "name": "python"
    }
  },
  "cells": [
    {
      "cell_type": "code",
      "source": [
        "# pip install qiskit"
      ],
      "metadata": {
        "id": "wqHede44GggR"
      },
      "execution_count": null,
      "outputs": []
    },
    {
      "cell_type": "code",
      "source": [
        "# pip install git+https://github.com/qiskit-community/qiskit-textbook.git#subdirectory=qiskit-textbook-src"
      ],
      "metadata": {
        "id": "Gov-E9uGHY1K"
      },
      "execution_count": null,
      "outputs": []
    },
    {
      "cell_type": "code",
      "execution_count": 22,
      "metadata": {
        "id": "a_3M87b7GCwO"
      },
      "outputs": [],
      "source": [
        "#initialization\n",
        "import matplotlib.pyplot as plt\n",
        "import numpy as np\n",
        "\n",
        "# importing Qiskit\n",
        "from qiskit import IBMQ, Aer, assemble, transpile\n",
        "from qiskit import QuantumCircuit, ClassicalRegister, QuantumRegister\n",
        "from qiskit.providers.ibmq import least_busy\n",
        "\n",
        "# import basic plot tools\n",
        "from qiskit.visualization import plot_histogram"
      ]
    },
    {
      "cell_type": "code",
      "source": [
        "n = 2\n",
        "grover_circuit = QuantumCircuit(n)"
      ],
      "metadata": {
        "id": "EKAfadXDGlLZ"
      },
      "execution_count": null,
      "outputs": []
    },
    {
      "cell_type": "code",
      "source": [
        "def initialize_s(qc, qubits):\n",
        "    \"\"\"Apply a H-gate to 'qubits' in qc\"\"\"\n",
        "    for q in qubits:\n",
        "        qc.h(q)\n",
        "    return qc"
      ],
      "metadata": {
        "id": "6_mu7fIpGpQp"
      },
      "execution_count": 5,
      "outputs": []
    },
    {
      "cell_type": "code",
      "source": [
        "grover_circuit = initialize_s(grover_circuit, [0,1])\n",
        "grover_circuit.draw()"
      ],
      "metadata": {
        "id": "n304cmebGxOV"
      },
      "execution_count": null,
      "outputs": []
    },
    {
      "cell_type": "code",
      "source": [
        "grover_circuit.cz(0,1) # Oracle\n",
        "grover_circuit.draw()"
      ],
      "metadata": {
        "id": "-Fui3HQkG0RD"
      },
      "execution_count": null,
      "outputs": []
    },
    {
      "cell_type": "code",
      "source": [
        "# Diffusion operator (U_s)\n",
        "grover_circuit.h([0,1])\n",
        "grover_circuit.z([0,1])\n",
        "grover_circuit.cz(0,1)\n",
        "grover_circuit.h([0,1])\n",
        "grover_circuit.draw()"
      ],
      "metadata": {
        "id": "ltjmM3XDG28y"
      },
      "execution_count": null,
      "outputs": []
    },
    {
      "cell_type": "code",
      "source": [
        "sim = Aer.get_backend('aer_simulator')\n",
        "# we need to make a copy of the circuit with the 'save_statevector'\n",
        "# instruction to run on the Aer simulator\n",
        "grover_circuit_sim = grover_circuit.copy()\n",
        "grover_circuit_sim.save_statevector()\n",
        "qobj = assemble(grover_circuit_sim)\n",
        "result = sim.run(qobj).result()\n",
        "statevec = result.get_statevector()\n",
        "from qiskit_textbook.tools import vector2latex\n",
        "vector2latex(statevec, pretext=\"|\\\\psi\\\\rangle =\")"
      ],
      "metadata": {
        "id": "kDfPD67HHim9"
      },
      "execution_count": null,
      "outputs": []
    },
    {
      "cell_type": "code",
      "source": [
        "grover_circuit.measure_all()\n",
        "\n",
        "aer_sim = Aer.get_backend('aer_simulator')\n",
        "qobj = assemble(grover_circuit)\n",
        "result = aer_sim.run(qobj).result()\n",
        "counts = result.get_counts()\n",
        "plot_histogram(counts)"
      ],
      "metadata": {
        "id": "zkGKo1uDH0PO"
      },
      "execution_count": null,
      "outputs": []
    },
    {
      "cell_type": "code",
      "source": [
        "codigo_qasm = grover_circuit.qasm()\n",
        "print(codigo_qasm)"
      ],
      "metadata": {
        "id": "UehWAbEJNak9"
      },
      "execution_count": null,
      "outputs": []
    }
  ]
}