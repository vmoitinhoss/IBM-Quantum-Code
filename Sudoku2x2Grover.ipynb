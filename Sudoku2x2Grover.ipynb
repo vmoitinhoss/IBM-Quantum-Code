{
  "nbformat": 4,
  "nbformat_minor": 0,
  "metadata": {
    "colab": {
      "provenance": []
    },
    "kernelspec": {
      "name": "python3",
      "display_name": "Python 3"
    },
    "language_info": {
      "name": "python"
    }
  },
  "cells": [
    {
      "cell_type": "code",
      "source": [
        "# pip install qiskit"
      ],
      "metadata": {
        "id": "3JqPy-W9Knfo"
      },
      "execution_count": null,
      "outputs": []
    },
    {
      "cell_type": "code",
      "source": [
        "#initialization\n",
        "import matplotlib.pyplot as plt\n",
        "import numpy as np\n",
        "\n",
        "# importing Qiskit\n",
        "from qiskit import IBMQ, Aer, assemble, transpile\n",
        "from qiskit import QuantumCircuit, ClassicalRegister, QuantumRegister\n",
        "from qiskit.providers.ibmq import least_busy\n",
        "\n",
        "# import basic plot tools\n",
        "from qiskit.visualization import plot_histogram"
      ],
      "metadata": {
        "id": "6zO472N5LBwr"
      },
      "execution_count": 3,
      "outputs": []
    },
    {
      "cell_type": "code",
      "source": [
        "clause_list = [[0,1],\n",
        "               [0,2],\n",
        "               [1,3],\n",
        "               [2,3]]"
      ],
      "metadata": {
        "id": "uo5hOySyLMr3"
      },
      "execution_count": 5,
      "outputs": []
    },
    {
      "cell_type": "code",
      "source": [
        "def diffuser(nqubits):\n",
        "    qc = QuantumCircuit(nqubits)\n",
        "    # Apply transformation |s> -> |00..0> (H-gates)\n",
        "    for qubit in range(nqubits):\n",
        "        qc.h(qubit)\n",
        "    # Apply transformation |00..0> -> |11..1> (X-gates)\n",
        "    for qubit in range(nqubits):\n",
        "        qc.x(qubit)\n",
        "    # Do multi-controlled-Z gate\n",
        "    qc.h(nqubits-1)\n",
        "    qc.mct(list(range(nqubits-1)), nqubits-1)  # multi-controlled-toffoli\n",
        "    qc.h(nqubits-1)\n",
        "    # Apply transformation |11..1> -> |00..0>\n",
        "    for qubit in range(nqubits):\n",
        "        qc.x(qubit)\n",
        "    # Apply transformation |00..0> -> |s>\n",
        "    for qubit in range(nqubits):\n",
        "        qc.h(qubit)\n",
        "    # We will return the diffuser as a gate\n",
        "    U_s = qc.to_gate()\n",
        "    U_s.name = \"U$_s$\"\n",
        "    return U_s"
      ],
      "metadata": {
        "id": "qh9uttLmMUNo"
      },
      "execution_count": 12,
      "outputs": []
    },
    {
      "cell_type": "code",
      "source": [
        "def XOR(qc, a, b, output):\n",
        "    qc.cx(a, output)\n",
        "    qc.cx(b, output)"
      ],
      "metadata": {
        "id": "wdTyNcCDLO9Y"
      },
      "execution_count": 6,
      "outputs": []
    },
    {
      "cell_type": "code",
      "source": [
        "# Create separate registers to name bits\n",
        "var_qubits = QuantumRegister(4, name='v')\n",
        "clause_qubits = QuantumRegister(4, name='c')\n",
        "output_qubit = QuantumRegister(1, name='out')\n",
        "qc = QuantumCircuit(var_qubits, clause_qubits, output_qubit)\n",
        "\n",
        "# Compute clauses\n",
        "i = 0\n",
        "for clause in clause_list:\n",
        "    XOR(qc, clause[0], clause[1], clause_qubits[i])\n",
        "    i += 1\n",
        "\n",
        "# Flip 'output' bit if all clauses are satisfied\n",
        "qc.mct(clause_qubits, output_qubit)\n",
        "\n",
        "qc.draw()"
      ],
      "metadata": {
        "id": "k4nIZt-3LcPF"
      },
      "execution_count": null,
      "outputs": []
    },
    {
      "cell_type": "code",
      "source": [
        "var_qubits = QuantumRegister(4, name='v')\n",
        "clause_qubits = QuantumRegister(4, name='c')\n",
        "output_qubit = QuantumRegister(1, name='out')\n",
        "cbits = ClassicalRegister(4, name='cbits')\n",
        "qc = QuantumCircuit(var_qubits, clause_qubits, output_qubit, cbits)\n",
        "\n",
        "def sudoku_oracle(qc, clause_list, clause_qubits):\n",
        "    # Compute clauses\n",
        "    i = 0\n",
        "    for clause in clause_list:\n",
        "        XOR(qc, clause[0], clause[1], clause_qubits[i])\n",
        "        i += 1\n",
        "\n",
        "    # Flip 'output' bit if all clauses are satisfied\n",
        "    qc.mct(clause_qubits, output_qubit)\n",
        "\n",
        "    # Uncompute clauses to reset clause-checking bits to 0\n",
        "    i = 0\n",
        "    for clause in clause_list:\n",
        "        XOR(qc, clause[0], clause[1], clause_qubits[i])\n",
        "        i += 1\n",
        "\n",
        "sudoku_oracle(qc, clause_list, clause_qubits)\n",
        "qc.draw()"
      ],
      "metadata": {
        "id": "HDEwI4mNLj62"
      },
      "execution_count": null,
      "outputs": []
    },
    {
      "cell_type": "code",
      "execution_count": null,
      "metadata": {
        "id": "Va5LFlgDKk66"
      },
      "outputs": [],
      "source": [
        "var_qubits = QuantumRegister(4, name='v')\n",
        "clause_qubits = QuantumRegister(4, name='c')\n",
        "output_qubit = QuantumRegister(1, name='out')\n",
        "cbits = ClassicalRegister(4, name='cbits')\n",
        "qc = QuantumCircuit(var_qubits, clause_qubits, output_qubit, cbits)\n",
        "\n",
        "# Initialize 'out0' in state |->\n",
        "qc.initialize([1, -1]/np.sqrt(2), output_qubit)\n",
        "\n",
        "# Initialize qubits in state |s>\n",
        "qc.h(var_qubits)\n",
        "qc.barrier()  # for visual separation\n",
        "\n",
        "## First Iteration\n",
        "# Apply our oracle\n",
        "sudoku_oracle(qc, clause_list, clause_qubits)\n",
        "qc.barrier()  # for visual separation\n",
        "# Apply our diffuser\n",
        "qc.append(diffuser(4), [0,1,2,3])\n",
        "\n",
        "## Second Iteration\n",
        "sudoku_oracle(qc, clause_list, clause_qubits)\n",
        "qc.barrier()  # for visual separation\n",
        "# Apply our diffuser\n",
        "qc.append(diffuser(4), [0,1,2,3])\n",
        "\n",
        "# Measure the variable qubits\n",
        "qc.measure(var_qubits, cbits)\n",
        "\n",
        "qc.draw(fold=-1)"
      ]
    },
    {
      "cell_type": "code",
      "source": [
        "# Simulate and plot results\n",
        "aer_simulator = Aer.get_backend('aer_simulator')\n",
        "transpiled_qc = transpile(qc, aer_simulator)\n",
        "qobj = assemble(transpiled_qc)\n",
        "result = aer_simulator.run(qobj).result()\n",
        "plot_histogram(result.get_counts())"
      ],
      "metadata": {
        "id": "Szc2J4SQLrst"
      },
      "execution_count": null,
      "outputs": []
    }
  ]
}